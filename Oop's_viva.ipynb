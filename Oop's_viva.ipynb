{
  "nbformat": 4,
  "nbformat_minor": 0,
  "metadata": {
    "colab": {
      "provenance": [],
      "authorship_tag": "ABX9TyOJYorKZJewr97fEJcbOI5T",
      "include_colab_link": true
    },
    "kernelspec": {
      "name": "python3",
      "display_name": "Python 3"
    },
    "language_info": {
      "name": "python"
    }
  },
  "cells": [
    {
      "cell_type": "markdown",
      "metadata": {
        "id": "view-in-github",
        "colab_type": "text"
      },
      "source": [
        "<a href=\"https://colab.research.google.com/github/hafizmuhammadyahya123/Python/blob/main/Oop's_viva.ipynb\" target=\"_parent\"><img src=\"https://colab.research.google.com/assets/colab-badge.svg\" alt=\"Open In Colab\"/></a>"
      ]
    },
    {
      "cell_type": "code",
      "execution_count": null,
      "metadata": {
        "id": "xTG0nl1LdQDR",
        "colab": {
          "base_uri": "https://localhost:8080/"
        },
        "outputId": "7ce7ce9f-1747-4b97-85c3-ec7f9c1a055f"
      },
      "outputs": [
        {
          "output_type": "stream",
          "name": "stdout",
          "text": [
            "car is started...\n",
            "car is stoped...\n",
            "car is stoped...\n"
          ]
        }
      ],
      "source": [
        "# blueprint\n",
        "class Car(): #class name using pascal case\n",
        "  # method\n",
        "  def start(self):\n",
        "    print(\"car is started...\")\n",
        "  # method\n",
        "  def stop(self):\n",
        "    print(\"car is stoped...\")\n",
        "\n",
        "# object\n",
        "c1 = Car()\n",
        "c2 = Car()\n",
        "\n",
        "c1.start()\n",
        "c1.stop()\n",
        "\n",
        "c2.stop()"
      ]
    },
    {
      "cell_type": "code",
      "source": [
        "class Car():\n",
        "\n",
        "  # method\n",
        "  def set_details(self,color,brand):\n",
        "# block  of code k liyay indentation ka use krtain hain\n",
        "    self.color = color\n",
        "    self.brand = brand\n",
        "\n",
        "  def show_details(self):\n",
        "    print(f'THIS CAR IS A {self.color}{self.brand}')\n",
        "\n",
        "# type hunting\n",
        "c1:Car = Car()\n",
        "c2 = Car()\n",
        "\n",
        "c1.set_details(' red ',' BMW ')\n",
        "c2.set_details(' blue ',' TESLA ')\n",
        "\n",
        "c1.show_details()\n",
        "c2.show_details()"
      ],
      "metadata": {
        "colab": {
          "base_uri": "https://localhost:8080/"
        },
        "id": "JKG9uMT5JFu3",
        "outputId": "2942f92b-d35b-4fef-8fb3-501319982296"
      },
      "execution_count": null,
      "outputs": [
        {
          "output_type": "stream",
          "name": "stdout",
          "text": [
            "THIS CAR IS A  red  BMW \n",
            "THIS CAR IS A  blue  TESLA \n"
          ]
        }
      ]
    },
    {
      "cell_type": "code",
      "source": [
        "class Person: #class name using pascal case\n",
        "    def __init__(self,name,age): #parametrized constructor means self k ilawa bhi parameter pass kiyay hongy dunder method main\n",
        "\n",
        "      # block of code k liyay indentation k use hota ha\n",
        "      self.name = name  #self = Refrence\n",
        "      self.age = age    #self = Refrence\n",
        "\n",
        "# type hunting\n",
        "obj:Person = Person(\"ALI\",26)\n",
        "\n",
        "print(obj) #yahan pr output main sirf ye milay ga  <__main__.Person object at 0x7874837c7a50>\n",
        "\n",
        "# obj ko print krnay k liyay dot notation ka use krna hoga\n",
        "print(obj.name) #using .notation\n",
        "print(obj.age)  #using .notation"
      ],
      "metadata": {
        "colab": {
          "base_uri": "https://localhost:8080/"
        },
        "id": "IuNwrHQ6k1bx",
        "outputId": "79f538ba-9755-4170-8e70-6d53a81de4dc"
      },
      "execution_count": null,
      "outputs": [
        {
          "output_type": "stream",
          "name": "stdout",
          "text": [
            "<__main__.Person object at 0x787483565250>\n",
            "ALI\n",
            "26\n"
          ]
        }
      ]
    },
    {
      "cell_type": "code",
      "source": [
        "class Person: #class name using pascal case\n",
        "    def __init__(self,name,age): #parametrized constructor means self k ilawa bhi parameter pass kiyay hongy dunder method main\n",
        "\n",
        "      # block of code k liyay indentation k use hota ha\n",
        "      self.name = name  #self = Refrence\n",
        "      self.age = age    #self = Refrence\n",
        "\n",
        "    def get_info(self):\n",
        "      print(f\" MY_NAME_IS: {self.name}\\n CURRENT_AGE: {self.age} \")\n",
        "\n",
        "\n",
        "# type hunting\n",
        "obj:Person = Person(\"ALI\",26)\n",
        "obj.get_info()"
      ],
      "metadata": {
        "colab": {
          "base_uri": "https://localhost:8080/"
        },
        "id": "Lse8HMe0QdDF",
        "outputId": "e9919f7b-ac5b-47f1-dec3-6c65a4c3565c"
      },
      "execution_count": null,
      "outputs": [
        {
          "output_type": "stream",
          "name": "stdout",
          "text": [
            " MY_NAME_IS: ALI\n",
            " CURRENT_AGE: 26 \n"
          ]
        }
      ]
    },
    {
      "cell_type": "code",
      "source": [
        "class Student:\n",
        "  def __init__(self,name,age,gender,rollnum): #parametrized constructor means self k ilawa bhi parameter pass kiyay hongy dunder method main\n",
        "    # block of code k liyay indentation ka use hota ha\n",
        "    self.name = name\n",
        "    self.age = age\n",
        "    self.gender = gender\n",
        "    self.rollnum = rollnum\n",
        "\n",
        "  def info(self):\n",
        "    return f\"STUDENT_NAME: {self.name}\\n STUDENT_AGE: {self.age}\\n STUDENT_GENDER: {self.gender}\\n STUDENT_ROLL_NUMBER: {self.rollnum}\"\n",
        "\n",
        "\n",
        "  # REPLACE name  eg:- nooker ka kaam kr raha ha ye method aik trha sy\n",
        "  def change_name(self,replacename):\n",
        "    self.name = replacename\n",
        "    return f\"NAME_CHANGED_TO: {self.name}\"\n",
        "\n",
        "# type hunting\n",
        "obj_1:Student = Student(\"USMAN\",22,\"MALE\",100101)\n",
        "\n",
        "print(obj_1.info())\n",
        "print(obj_1.change_name(\"AHMAD\"))\n",
        "print(obj_1.name)"
      ],
      "metadata": {
        "colab": {
          "base_uri": "https://localhost:8080/"
        },
        "id": "HjGklqABUDXj",
        "outputId": "51a65551-4b74-49a7-cb15-07ebce35a737"
      },
      "execution_count": null,
      "outputs": [
        {
          "output_type": "stream",
          "name": "stdout",
          "text": [
            "STUDENT_NAME: USMAN\n",
            " STUDENT_AGE: 22\n",
            " STUDENT_GENDER: MALE\n",
            " STUDENT_ROLL_NUMBER: 100101\n",
            "NAME_CHANGED_TO: AHMAD\n",
            "AHMAD\n"
          ]
        }
      ]
    },
    {
      "cell_type": "code",
      "source": [
        "class Student:\n",
        "  def __init__(self,name,age,gender,rollnum): #parametrized constructor means self k ilawa bhi parameter pass kiyay hongy dunder method main\n",
        "    # block of code k liyay indentation ka use hota ha\n",
        "    self.name = name\n",
        "    self.age = age\n",
        "    self.gender = gender\n",
        "    self.rollnum = rollnum\n",
        "\n",
        "  def info(self):\n",
        "    return f\"STUDENT_NAME: {self.name}\\n STUDENT_AGE: {self.age}\\n STUDENT_GENDER: {self.gender}\\n STUDENT_ROLL_NUMBER: {self.rollnum}\"\n",
        "\n",
        "  # Method k through Replace krna\n",
        "  # REPLACE name  eg:- nooker ka kaam kr raha ha ye method aik trha sy\n",
        "  def change_name(self,replacename):\n",
        "    self.name = replacename\n",
        "    print(f\"NAME_CHANGED_TO: {self.name}\")\n",
        "\n",
        "# type hunting\n",
        "obj_1:Student = Student(\"USMAN\",22,\"MALE\",100101)\n",
        "\n",
        "print(obj_1.info())\n",
        "obj_1.change_name(\"AHMAD\")"
      ],
      "metadata": {
        "colab": {
          "base_uri": "https://localhost:8080/"
        },
        "id": "IZqB6v__JnQ5",
        "outputId": "fab0e04a-d7d2-49db-f8fb-8d5557248acb"
      },
      "execution_count": null,
      "outputs": [
        {
          "output_type": "stream",
          "name": "stdout",
          "text": [
            "STUDENT_NAME: USMAN\n",
            " STUDENT_AGE: 22\n",
            " STUDENT_GENDER: MALE\n",
            " STUDENT_ROLL_NUMBER: 100101\n",
            "NAME_CHANGED_TO: AHMAD\n"
          ]
        }
      ]
    },
    {
      "cell_type": "code",
      "source": [
        "class Student:\n",
        "  def __init__(self,name,age,gender,rollnum): #parametrized constructor means self k ilawa bhi parameter pass kiyay hongy dunder method main\n",
        "    # block of code k liyay indentation ka use hota ha\n",
        "    self.name = name\n",
        "    self.age = age\n",
        "    self.gender = gender\n",
        "    self.rollnum = rollnum\n",
        "\n",
        "  def info(self):\n",
        "    return f\"STUDENT_NAME: {self.name}\\n STUDENT_AGE: {self.age}\\n STUDENT_GENDER: {self.gender}\\n STUDENT_ROLL_NUMBER: {self.rollnum}\"\n",
        "\n",
        "# type hunting\n",
        "obj_1:Student = Student(\"USMAN\",22,\"MALE\",100101)\n",
        "\n",
        "print(obj_1.info())\n",
        "obj_1.name = \"AHMAD\"  # Replace .notataion k through\n",
        "print(obj_1.name)"
      ],
      "metadata": {
        "colab": {
          "base_uri": "https://localhost:8080/"
        },
        "id": "FcXc0I_CLlZC",
        "outputId": "6597dda4-d9fa-4f8c-8450-aa759263a1c0"
      },
      "execution_count": null,
      "outputs": [
        {
          "output_type": "stream",
          "name": "stdout",
          "text": [
            "STUDENT_NAME: USMAN\n",
            " STUDENT_AGE: 22\n",
            " STUDENT_GENDER: MALE\n",
            " STUDENT_ROLL_NUMBER: 100101\n",
            "AHMAD\n"
          ]
        }
      ]
    },
    {
      "cell_type": "code",
      "source": [
        "class Company:\n",
        "\n",
        "  # Destructor Method\n",
        "    def __del__(self):\n",
        "      print(f\"OBJECT_NAME {self.name} IS_DELETED\")\n",
        "\n",
        "obj:Company = Company()\n"
      ],
      "metadata": {
        "id": "XJBLl93HP9e2"
      },
      "execution_count": null,
      "outputs": []
    },
    {
      "cell_type": "code",
      "source": [
        "# constructor Method\n",
        "class A:\n",
        "  def __init__(self):\n",
        "    pass"
      ],
      "metadata": {
        "id": "I3r6zohCqId_"
      },
      "execution_count": null,
      "outputs": []
    },
    {
      "cell_type": "code",
      "source": [
        "# using without constructor\n",
        "class Car: #class name using pascal case\n",
        "  def dis(self,color,brand):\n",
        "    self.color = color\n",
        "    self.brand = brand\n",
        "\n",
        "c1 = Car()\n",
        "c1.dis('grey','TESLA')\n",
        "print(c1.brand)\n",
        "print(c1.color)\n",
        "\n",
        "# constructor method\n",
        "class Car:  #class name using pascal case\n",
        "  def __init__(self,color,brand): #parametrized constructor means self k ilawa bhi parameter pass kiyay hongy dunder method main\n",
        "    # block of code k liyay indentation/4 apace  ka use krtain hain\n",
        "    self.color = color\n",
        "    self.brand = brand\n",
        "\n",
        "c1 = Car('grey','TESLA')\n",
        "print(c1.color)\n",
        "print(c1.brand)"
      ],
      "metadata": {
        "colab": {
          "base_uri": "https://localhost:8080/"
        },
        "id": "_o8xA-XhHQnx",
        "outputId": "66b40a1c-4d93-4407-9105-aa9dde654a97"
      },
      "execution_count": null,
      "outputs": [
        {
          "output_type": "stream",
          "name": "stdout",
          "text": [
            "TESLA\n",
            "grey\n",
            "grey\n",
            "TESLA\n"
          ]
        }
      ]
    },
    {
      "cell_type": "code",
      "source": [
        "# Default constructor\n",
        "class A:\n",
        "  def __init__(self):\n",
        "\n",
        "    self.name = \"AHSAN\" #default constructor means yahan pr directly name pss kiya ha\n",
        "    self.age = 26 #default constructor means yahan pr directly age pss kiya ha\n"
      ],
      "metadata": {
        "id": "ikKTfNX4ofot"
      },
      "execution_count": null,
      "outputs": []
    }
  ]
}