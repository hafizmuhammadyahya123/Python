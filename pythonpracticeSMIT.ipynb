{
  "nbformat": 4,
  "nbformat_minor": 0,
  "metadata": {
    "colab": {
      "provenance": [],
      "authorship_tag": "ABX9TyP58sSsZQdp/xERuV++kiG5",
      "include_colab_link": true
    },
    "kernelspec": {
      "name": "python3",
      "display_name": "Python 3"
    },
    "language_info": {
      "name": "python"
    }
  },
  "cells": [
    {
      "cell_type": "markdown",
      "metadata": {
        "id": "view-in-github",
        "colab_type": "text"
      },
      "source": [
        "<a href=\"https://colab.research.google.com/github/hafizmuhammadyahya123/Python/blob/main/pythonpracticeSMIT.ipynb\" target=\"_parent\"><img src=\"https://colab.research.google.com/assets/colab-badge.svg\" alt=\"Open In Colab\"/></a>"
      ]
    },
    {
      "cell_type": "markdown",
      "source": [
        "#print()"
      ],
      "metadata": {
        "id": "iKRJG-_QSAhz"
      }
    },
    {
      "cell_type": "code",
      "execution_count": null,
      "metadata": {
        "colab": {
          "base_uri": "https://localhost:8080/"
        },
        "id": "jViEYr5XICkD",
        "outputId": "6a48645a-2594-4744-b5fd-20c8d47af5bd"
      },
      "outputs": [
        {
          "output_type": "stream",
          "name": "stdout",
          "text": [
            "hello world\n"
          ]
        }
      ],
      "source": [
        "print(\"hello\",\"world\")"
      ]
    },
    {
      "cell_type": "code",
      "source": [
        "print(\"hello world\")"
      ],
      "metadata": {
        "colab": {
          "base_uri": "https://localhost:8080/"
        },
        "id": "v67U5IykJHFt",
        "outputId": "8c582ac9-0a14-49db-8156-8dd8f9844221"
      },
      "execution_count": null,
      "outputs": [
        {
          "output_type": "stream",
          "name": "stdout",
          "text": [
            "hello world\n"
          ]
        }
      ]
    },
    {
      "cell_type": "markdown",
      "source": [
        "#VARIABLES FOR STRINGS"
      ],
      "metadata": {
        "id": "ptUKM57GSSRG"
      }
    },
    {
      "cell_type": "code",
      "source": [
        "name = \"IMRAN\"\n",
        "name"
      ],
      "metadata": {
        "colab": {
          "base_uri": "https://localhost:8080/",
          "height": 35
        },
        "id": "FTDonuGPJMnq",
        "outputId": "a2b8bce3-7237-44c9-968b-18da1959d539"
      },
      "execution_count": null,
      "outputs": [
        {
          "output_type": "execute_result",
          "data": {
            "text/plain": [
              "'IMRAN'"
            ],
            "application/vnd.google.colaboratory.intrinsic+json": {
              "type": "string"
            }
          },
          "metadata": {},
          "execution_count": 3
        }
      ]
    },
    {
      "cell_type": "code",
      "source": [
        "name = \"IMRAN\"\n",
        "print(name)"
      ],
      "metadata": {
        "colab": {
          "base_uri": "https://localhost:8080/"
        },
        "id": "NJOmoA1fSlek",
        "outputId": "f71aef77-83b1-4c65-b55e-266dbe1b78b0"
      },
      "execution_count": null,
      "outputs": [
        {
          "output_type": "stream",
          "name": "stdout",
          "text": [
            "IMRAN\n"
          ]
        }
      ]
    },
    {
      "cell_type": "code",
      "source": [
        "my_name,age,gender = \"UMAR\",22,\"MALE\"\n",
        "print(gender)"
      ],
      "metadata": {
        "colab": {
          "base_uri": "https://localhost:8080/"
        },
        "id": "UlxAOUBETM7f",
        "outputId": "c5c9ad30-1795-44e8-e146-5e3d833441a3"
      },
      "execution_count": null,
      "outputs": [
        {
          "output_type": "stream",
          "name": "stdout",
          "text": [
            "MALE\n"
          ]
        }
      ]
    },
    {
      "cell_type": "code",
      "source": [
        "f_name = \"IMTIAZ\"\n",
        "l_name = \"ALI\"\n",
        "full_name = f_name + l_name\n",
        "print(full_name)"
      ],
      "metadata": {
        "colab": {
          "base_uri": "https://localhost:8080/"
        },
        "id": "O5DXRu8rjcHp",
        "outputId": "6d1f46ee-28ba-4478-ee43-5542213df08a"
      },
      "execution_count": null,
      "outputs": [
        {
          "output_type": "stream",
          "name": "stdout",
          "text": [
            "IMTIAZALI\n"
          ]
        }
      ]
    },
    {
      "cell_type": "code",
      "source": [
        "# snake case var or multi word var\n",
        "stu_name,stu_id,stu_gender = \"ALI\",1000101,\"MALE\"\n",
        "print(\"NAME:\",stu_name,\"\\n ID:\",stu_id,\"\\n Stu_Gender:\",stu_gender)"
      ],
      "metadata": {
        "colab": {
          "base_uri": "https://localhost:8080/"
        },
        "id": "eLv4OU2vTll3",
        "outputId": "bcf50cd9-38e7-4b13-9518-12656184f8e1"
      },
      "execution_count": null,
      "outputs": [
        {
          "output_type": "stream",
          "name": "stdout",
          "text": [
            "NAME: ALI \n",
            " ID: 1000101 \n",
            " Stu_Gender: MALE\n"
          ]
        }
      ]
    },
    {
      "cell_type": "code",
      "source": [
        "int_convert_str = \"100\"\n",
        "print(int_convert_str)\n",
        "type(int_convert_str)"
      ],
      "metadata": {
        "colab": {
          "base_uri": "https://localhost:8080/"
        },
        "id": "Od4r3-XMXRHY",
        "outputId": "8e22b7d0-0713-405d-d478-edaef4ddb1bd"
      },
      "execution_count": null,
      "outputs": [
        {
          "output_type": "stream",
          "name": "stdout",
          "text": [
            "100\n"
          ]
        },
        {
          "output_type": "execute_result",
          "data": {
            "text/plain": [
              "str"
            ]
          },
          "metadata": {},
          "execution_count": 8
        }
      ]
    },
    {
      "cell_type": "code",
      "source": [
        "int_convert_str_but_show_the_data_type_int = int(\"1001\")\n",
        "print(type(int_convert_str_but_show_the_data_type_int))"
      ],
      "metadata": {
        "colab": {
          "base_uri": "https://localhost:8080/"
        },
        "id": "QA3moo78Z9Ez",
        "outputId": "630ccc11-0b09-4db2-fae7-bedbee7beb44"
      },
      "execution_count": null,
      "outputs": [
        {
          "output_type": "stream",
          "name": "stdout",
          "text": [
            "<class 'int'>\n"
          ]
        }
      ]
    },
    {
      "cell_type": "code",
      "source": [
        "# as a data type variable name allowed\n",
        "str = \"string\"\n",
        "print(str)"
      ],
      "metadata": {
        "colab": {
          "base_uri": "https://localhost:8080/"
        },
        "id": "TAognCMLcCOj",
        "outputId": "bc679563-28dd-47e4-86c6-aee906727656"
      },
      "execution_count": null,
      "outputs": [
        {
          "output_type": "stream",
          "name": "stdout",
          "text": [
            "string\n"
          ]
        }
      ]
    },
    {
      "cell_type": "markdown",
      "source": [
        "#VARIABLES FOR int"
      ],
      "metadata": {
        "id": "drQqpKXYdAPX"
      }
    },
    {
      "cell_type": "code",
      "source": [
        "# as a data type variable name allowed\n",
        "int = 1001\n",
        "print(int)"
      ],
      "metadata": {
        "id": "7I0cqwB6cL4W",
        "colab": {
          "base_uri": "https://localhost:8080/"
        },
        "outputId": "b6a7d60b-f8a2-4be9-8e40-e3d84261fccf"
      },
      "execution_count": null,
      "outputs": [
        {
          "output_type": "stream",
          "name": "stdout",
          "text": [
            "1001\n"
          ]
        }
      ]
    },
    {
      "cell_type": "code",
      "source": [
        "weight = 50\n",
        "new_weight = weight + 29\n",
        "print(new_weight)"
      ],
      "metadata": {
        "colab": {
          "base_uri": "https://localhost:8080/"
        },
        "id": "4ttsOz2WdMlW",
        "outputId": "e5623d78-7867-441a-d00a-f01841eb4340"
      },
      "execution_count": null,
      "outputs": [
        {
          "output_type": "stream",
          "name": "stdout",
          "text": [
            "79\n"
          ]
        }
      ]
    },
    {
      "cell_type": "code",
      "source": [
        "weight = 80\n",
        "weight + 2\n",
        "print(weight)"
      ],
      "metadata": {
        "colab": {
          "base_uri": "https://localhost:8080/"
        },
        "id": "Uxa9Mge7gSXl",
        "outputId": "33f1394c-9b58-4f42-c52f-2deef3f5082a"
      },
      "execution_count": null,
      "outputs": [
        {
          "output_type": "stream",
          "name": "stdout",
          "text": [
            "80\n"
          ]
        }
      ]
    },
    {
      "cell_type": "code",
      "source": [
        "old_weight = 50\n",
        "gain_weight = 5\n",
        "new_weight = old_weight + gain_weight\n",
        "print(new_weight)"
      ],
      "metadata": {
        "colab": {
          "base_uri": "https://localhost:8080/"
        },
        "id": "I-FBhKcRgd-Z",
        "outputId": "f738d97a-4a1a-4fb1-cddf-0accd4e5222b"
      },
      "execution_count": null,
      "outputs": [
        {
          "output_type": "stream",
          "name": "stdout",
          "text": [
            "55\n"
          ]
        }
      ]
    },
    {
      "cell_type": "code",
      "source": [
        "# ERROR Wronge\n",
        "old_weight = '70'\n",
        "after_weight_gain = 10\n",
        "new_weight = old_weight + after_weight_gain  # ERROR\n",
        "print(new_weight)"
      ],
      "metadata": {
        "id": "7KOKfxnOhlK9",
        "colab": {
          "base_uri": "https://localhost:8080/",
          "height": 193
        },
        "outputId": "24e3f69e-143c-4362-9d44-b75d88981867"
      },
      "execution_count": null,
      "outputs": [
        {
          "output_type": "error",
          "ename": "TypeError",
          "evalue": "can only concatenate str (not \"int\") to str",
          "traceback": [
            "\u001b[0;31m---------------------------------------------------------------------------\u001b[0m",
            "\u001b[0;31mTypeError\u001b[0m                                 Traceback (most recent call last)",
            "\u001b[0;32m/tmp/ipython-input-989337205.py\u001b[0m in \u001b[0;36m<cell line: 0>\u001b[0;34m()\u001b[0m\n\u001b[1;32m      2\u001b[0m \u001b[0mold_weight\u001b[0m \u001b[0;34m=\u001b[0m \u001b[0;34m'70'\u001b[0m\u001b[0;34m\u001b[0m\u001b[0;34m\u001b[0m\u001b[0m\n\u001b[1;32m      3\u001b[0m \u001b[0mafter_weight_gain\u001b[0m \u001b[0;34m=\u001b[0m \u001b[0;36m10\u001b[0m\u001b[0;34m\u001b[0m\u001b[0;34m\u001b[0m\u001b[0m\n\u001b[0;32m----> 4\u001b[0;31m \u001b[0mnew_weight\u001b[0m \u001b[0;34m=\u001b[0m \u001b[0mold_weight\u001b[0m \u001b[0;34m+\u001b[0m \u001b[0mafter_weight_gain\u001b[0m\u001b[0;34m\u001b[0m\u001b[0;34m\u001b[0m\u001b[0m\n\u001b[0m\u001b[1;32m      5\u001b[0m \u001b[0mprint\u001b[0m\u001b[0;34m(\u001b[0m\u001b[0mnew_weight\u001b[0m\u001b[0;34m)\u001b[0m\u001b[0;34m\u001b[0m\u001b[0;34m\u001b[0m\u001b[0m\n",
            "\u001b[0;31mTypeError\u001b[0m: can only concatenate str (not \"int\") to str"
          ]
        }
      ]
    },
    {
      "cell_type": "code",
      "source": [
        "old_weight = '70'\n",
        "after_weight_gain = '10'\n",
        "new_weight = old_weight + after_weight_gain #concatenate\n",
        "print(new_weight)"
      ],
      "metadata": {
        "id": "SCxJTSmkiYBG"
      },
      "execution_count": null,
      "outputs": []
    },
    {
      "cell_type": "code",
      "source": [
        "weight_1 = '80' #legal var name\n",
        "weight_2 = '10' #legal var name\n",
        "weight = weight_1 + weight_2\n",
        "print(weight)"
      ],
      "metadata": {
        "colab": {
          "base_uri": "https://localhost:8080/"
        },
        "id": "8ooM0CsUkFKG",
        "outputId": "25b47c08-9bd1-4bb6-9f14-04aca2ea1725"
      },
      "execution_count": null,
      "outputs": [
        {
          "output_type": "stream",
          "name": "stdout",
          "text": [
            "8010\n"
          ]
        }
      ]
    },
    {
      "cell_type": "code",
      "source": [
        "1_weight = '80' #illegal var name\n",
        "2_weight = '10' #illegal var name\n",
        "weight = 1_weight + 2_weight\n",
        "print(weight)"
      ],
      "metadata": {
        "id": "w01CIENDkyrz",
        "colab": {
          "base_uri": "https://localhost:8080/",
          "height": 106
        },
        "outputId": "2992cd2b-d29a-4655-9e88-525ab795c0d6"
      },
      "execution_count": null,
      "outputs": [
        {
          "output_type": "error",
          "ename": "SyntaxError",
          "evalue": "invalid decimal literal (ipython-input-368802126.py, line 1)",
          "traceback": [
            "\u001b[0;36m  File \u001b[0;32m\"/tmp/ipython-input-368802126.py\"\u001b[0;36m, line \u001b[0;32m1\u001b[0m\n\u001b[0;31m    1_weight = '80' #illegal var name\u001b[0m\n\u001b[0m     ^\u001b[0m\n\u001b[0;31mSyntaxError\u001b[0m\u001b[0;31m:\u001b[0m invalid decimal literal\n"
          ]
        }
      ]
    },
    {
      "cell_type": "code",
      "source": [
        "1_weight = '80' #illegal var name\n",
        "2_weight = '10' #illegal var name\n",
        "weight = 1_weight + 2_weight\n",
        "print(weight)"
      ],
      "metadata": {
        "id": "Gm0-sAQOliBN"
      },
      "execution_count": null,
      "outputs": []
    },
    {
      "cell_type": "code",
      "source": [
        "_weight = '80' #legal var name\n",
        "_weight = '10' #legal var name\n",
        "weight = _weight + _weight\n",
        "print(weight)"
      ],
      "metadata": {
        "id": "7RTsf87KlvK6"
      },
      "execution_count": null,
      "outputs": []
    },
    {
      "cell_type": "code",
      "source": [
        "_1 = '80' #legal var name\n",
        "_1 = '10' #legal var name\n",
        "weight = _1 + _1\n",
        "print(weight)"
      ],
      "metadata": {
        "colab": {
          "base_uri": "https://localhost:8080/"
        },
        "id": "Ghl-jMtwmfT_",
        "outputId": "42c422d3-5a99-4f9a-a044-1e4ad94f2b64"
      },
      "execution_count": null,
      "outputs": [
        {
          "output_type": "stream",
          "name": "stdout",
          "text": [
            "1010\n"
          ]
        }
      ]
    },
    {
      "cell_type": "markdown",
      "source": [
        "#MATH EXPRESIONS : FAMILIAR OPERATORS"
      ],
      "metadata": {
        "id": "fxKJjeCOntLQ"
      }
    },
    {
      "cell_type": "code",
      "source": [
        "Summation = 2 + 2\n",
        "print(Summation)"
      ],
      "metadata": {
        "colab": {
          "base_uri": "https://localhost:8080/"
        },
        "id": "CToO3E-gnmSP",
        "outputId": "1e641c01-b629-4bcc-e6d8-e10fd4b7f563"
      },
      "execution_count": null,
      "outputs": [
        {
          "output_type": "stream",
          "name": "stdout",
          "text": [
            "4\n"
          ]
        }
      ]
    },
    {
      "cell_type": "code",
      "source": [
        "int_1 = 2\n",
        "int_2 = 2\n",
        "Summation = int_1 + int_2\n",
        "print(Summation)"
      ],
      "metadata": {
        "colab": {
          "base_uri": "https://localhost:8080/"
        },
        "id": "D3xCLrvzoXGf",
        "outputId": "629887e1-bf82-41bb-916d-9c091bd44722"
      },
      "execution_count": null,
      "outputs": [
        {
          "output_type": "stream",
          "name": "stdout",
          "text": [
            "4\n"
          ]
        }
      ]
    },
    {
      "cell_type": "code",
      "source": [
        "print(2 + 2)"
      ],
      "metadata": {
        "colab": {
          "base_uri": "https://localhost:8080/"
        },
        "id": "8bedz3JmootY",
        "outputId": "fe28414d-eb27-4251-860a-833ad295b1ae"
      },
      "execution_count": null,
      "outputs": [
        {
          "output_type": "stream",
          "name": "stdout",
          "text": [
            "4\n"
          ]
        }
      ]
    },
    {
      "cell_type": "code",
      "source": [
        "difference_two_int = 2-2\n",
        "print(difference_two_int)"
      ],
      "metadata": {
        "colab": {
          "base_uri": "https://localhost:8080/"
        },
        "id": "rn5LNM6JovkW",
        "outputId": "f3b09779-44b4-4358-c9a0-e8478e06b6fb"
      },
      "execution_count": null,
      "outputs": [
        {
          "output_type": "stream",
          "name": "stdout",
          "text": [
            "0\n"
          ]
        }
      ]
    },
    {
      "cell_type": "code",
      "source": [
        "int_1 = 3\n",
        "int_2 = 3\n",
        "difference_two_int = int_1 - int_2\n",
        "print(difference_two_int)"
      ],
      "metadata": {
        "colab": {
          "base_uri": "https://localhost:8080/"
        },
        "id": "4l_swazspGwN",
        "outputId": "570e1a5a-9ba6-4bc4-96cc-8980911adff1"
      },
      "execution_count": null,
      "outputs": [
        {
          "output_type": "stream",
          "name": "stdout",
          "text": [
            "0\n"
          ]
        }
      ]
    },
    {
      "cell_type": "code",
      "source": [
        "print(3 - 3)"
      ],
      "metadata": {
        "colab": {
          "base_uri": "https://localhost:8080/"
        },
        "id": "4TWk7kpRpiPV",
        "outputId": "f64b7b64-a4b8-4dde-c21d-8f2986055b6c"
      },
      "execution_count": null,
      "outputs": [
        {
          "output_type": "stream",
          "name": "stdout",
          "text": [
            "0\n"
          ]
        }
      ]
    },
    {
      "cell_type": "code",
      "source": [
        "product = 2 * 3\n",
        "print(product)"
      ],
      "metadata": {
        "colab": {
          "base_uri": "https://localhost:8080/"
        },
        "id": "1fkj006oplar",
        "outputId": "ca214dc5-92c7-40b3-edc1-d9facfce97e1"
      },
      "execution_count": null,
      "outputs": [
        {
          "output_type": "stream",
          "name": "stdout",
          "text": [
            "6\n"
          ]
        }
      ]
    },
    {
      "cell_type": "code",
      "source": [
        "quotient = 12 / 4\n",
        "print(quotient)"
      ],
      "metadata": {
        "colab": {
          "base_uri": "https://localhost:8080/"
        },
        "id": "BtrR-KrspvhF",
        "outputId": "8d66726c-40d2-4c7d-a4cc-a786d7936dfd"
      },
      "execution_count": null,
      "outputs": [
        {
          "output_type": "stream",
          "name": "stdout",
          "text": [
            "3.0\n"
          ]
        }
      ]
    },
    {
      "cell_type": "code",
      "source": [
        "num_1 = 12\n",
        "num_2 = 4\n",
        "quotient = num_1 / num_2\n",
        "print(quotient)"
      ],
      "metadata": {
        "colab": {
          "base_uri": "https://localhost:8080/"
        },
        "id": "Nz5jET6NvDQ-",
        "outputId": "6f2253d2-fe9c-4c81-8da0-9d2fee0eff68"
      },
      "execution_count": null,
      "outputs": [
        {
          "output_type": "stream",
          "name": "stdout",
          "text": [
            "3.0\n"
          ]
        }
      ]
    },
    {
      "cell_type": "code",
      "source": [
        "print(12 / 4)"
      ],
      "metadata": {
        "colab": {
          "base_uri": "https://localhost:8080/"
        },
        "id": "tXVxLKOvvBPW",
        "outputId": "60cac9d9-2b94-474f-ae94-91eda70a99cc"
      },
      "execution_count": null,
      "outputs": [
        {
          "output_type": "stream",
          "name": "stdout",
          "text": [
            "3.0\n"
          ]
        }
      ]
    },
    {
      "cell_type": "code",
      "source": [
        "floor_division = 12 // 4\n",
        "print(floor_division)"
      ],
      "metadata": {
        "colab": {
          "base_uri": "https://localhost:8080/"
        },
        "id": "IdM8vwk7vrVj",
        "outputId": "221a9dd8-02ed-49a6-978f-7b2fc66d11df"
      },
      "execution_count": null,
      "outputs": [
        {
          "output_type": "stream",
          "name": "stdout",
          "text": [
            "3\n"
          ]
        }
      ]
    },
    {
      "cell_type": "code",
      "source": [
        "x = 12\n",
        "m = 4\n",
        "b = 10\n",
        "y = m * x + b\n",
        "print(y)"
      ],
      "metadata": {
        "colab": {
          "base_uri": "https://localhost:8080/"
        },
        "id": "6lS-20qb1FL3",
        "outputId": "c6a29e11-e2cb-43ac-eece-27f04959e05b"
      },
      "execution_count": null,
      "outputs": [
        {
          "output_type": "stream",
          "name": "stdout",
          "text": [
            "58\n"
          ]
        }
      ]
    },
    {
      "cell_type": "code",
      "source": [
        "x1,x2,x3,x4 = 2,4,6,8\n",
        "m1,m2,m3,m4 = 1,3,5,7\n",
        "b = 15\n",
        "\n",
        "y = (m1*x1)*(m2*x2)*(m3*x3)*(m4*x4)+b\n",
        "print(y)"
      ],
      "metadata": {
        "colab": {
          "base_uri": "https://localhost:8080/"
        },
        "id": "7nBnjv1f2ZH9",
        "outputId": "4e79d38a-eab1-442e-a4ae-7990a28ab278"
      },
      "execution_count": null,
      "outputs": [
        {
          "output_type": "stream",
          "name": "stdout",
          "text": [
            "40335\n"
          ]
        }
      ]
    },
    {
      "cell_type": "markdown",
      "source": [
        "#VARIABLES NAME LEGAL & ILLEGAL"
      ],
      "metadata": {
        "id": "OiRIhycu4_mQ"
      }
    },
    {
      "cell_type": "code",
      "source": [
        "# as a key keyword  var name illegal\n",
        "and = 'this is keyword'\n",
        "print(and)\n",
        "\n",
        "if = \"not allowed\"\n",
        "print(if)\n",
        "\n",
        "False = \"0\"\n",
        "print(False)\n",
        "\n",
        "class = \"my class number is A01\"\n",
        "print(class)\n",
        "\n",
        "del = \"my id is deleted\"\n",
        "print(del)\n",
        "\n",
        "elif = \"this is keyword\"\n",
        "print(elif)\n",
        "\n",
        "True = \"this is keyword\"\n",
        "print(True)"
      ],
      "metadata": {
        "id": "VvRQQcja47MT",
        "colab": {
          "base_uri": "https://localhost:8080/",
          "height": 106
        },
        "outputId": "780a5f9b-ba2d-4822-c77a-db6d8769ec50"
      },
      "execution_count": null,
      "outputs": [
        {
          "output_type": "error",
          "ename": "SyntaxError",
          "evalue": "invalid syntax (ipython-input-131611749.py, line 2)",
          "traceback": [
            "\u001b[0;36m  File \u001b[0;32m\"/tmp/ipython-input-131611749.py\"\u001b[0;36m, line \u001b[0;32m2\u001b[0m\n\u001b[0;31m    and = 'this is keyword'\u001b[0m\n\u001b[0m    ^\u001b[0m\n\u001b[0;31mSyntaxError\u001b[0m\u001b[0;31m:\u001b[0m invalid syntax\n"
          ]
        }
      ]
    },
    {
      "cell_type": "code",
      "source": [
        "old_weight = '70' #legal var name\n",
        "weight_1 = '80' #legal var name\n",
        "1_weight = '80' #illegal var name\n",
        "_weight = '80' #legal var name\n",
        "_1 = '80' #legal var name"
      ],
      "metadata": {
        "id": "OVuwemjI6xEO"
      },
      "execution_count": null,
      "outputs": []
    },
    {
      "cell_type": "markdown",
      "source": [
        "#MATH EXPRESSION : UNFAMILIAR OPERATORS"
      ],
      "metadata": {
        "id": "v_sqYCuvAoQ9"
      }
    },
    {
      "cell_type": "code",
      "source": [
        "age = 20\n",
        "age += 3  #augment statement\n",
        "print(age)"
      ],
      "metadata": {
        "id": "g_5-1RJQ-fao"
      },
      "execution_count": null,
      "outputs": []
    },
    {
      "cell_type": "code",
      "source": [
        "age = 25\n",
        "age -= 2 #augment statement\n",
        "print(age)"
      ],
      "metadata": {
        "colab": {
          "base_uri": "https://localhost:8080/"
        },
        "id": "SvBEMQQWB0M7",
        "outputId": "d7d0dc52-9daa-4641-f63e-a4e7786eda3c"
      },
      "execution_count": null,
      "outputs": [
        {
          "output_type": "stream",
          "name": "stdout",
          "text": [
            "23\n"
          ]
        }
      ]
    },
    {
      "cell_type": "code",
      "source": [
        "age = 23\n",
        "age /= 2 #augment statement\n",
        "print(age)"
      ],
      "metadata": {
        "colab": {
          "base_uri": "https://localhost:8080/"
        },
        "id": "JyUagwIqB8eq",
        "outputId": "ae186ce7-256c-43f0-dd59-601eefe22074"
      },
      "execution_count": null,
      "outputs": [
        {
          "output_type": "stream",
          "name": "stdout",
          "text": [
            "11.5\n"
          ]
        }
      ]
    },
    {
      "cell_type": "code",
      "source": [
        "age = 23\n",
        "age //= 2 #augment statement\n",
        "print(age)"
      ],
      "metadata": {
        "colab": {
          "base_uri": "https://localhost:8080/"
        },
        "id": "hL-R0-fcCRWt",
        "outputId": "f3042235-aabb-4bdc-9e1e-9cab6d8e0432"
      },
      "execution_count": null,
      "outputs": [
        {
          "output_type": "stream",
          "name": "stdout",
          "text": [
            "11\n"
          ]
        }
      ]
    },
    {
      "cell_type": "code",
      "source": [
        "age = 23\n",
        "age *= 1 #augment statement\n",
        "print(age)"
      ],
      "metadata": {
        "colab": {
          "base_uri": "https://localhost:8080/"
        },
        "id": "EycGDwZPCk_8",
        "outputId": "895d085d-1176-4ff4-f0be-403aa2e73bbf"
      },
      "execution_count": null,
      "outputs": [
        {
          "output_type": "stream",
          "name": "stdout",
          "text": [
            "23\n"
          ]
        }
      ]
    },
    {
      "cell_type": "code",
      "source": [
        "age_1 = 23\n",
        "age_2 = 2\n",
        "age_1 /= age_2\n",
        "print(age)"
      ],
      "metadata": {
        "colab": {
          "base_uri": "https://localhost:8080/"
        },
        "id": "xEQBdPvHC4zo",
        "outputId": "73640404-a578-4655-90d9-bf7b74360374"
      },
      "execution_count": null,
      "outputs": [
        {
          "output_type": "stream",
          "name": "stdout",
          "text": [
            "23\n"
          ]
        }
      ]
    },
    {
      "cell_type": "markdown",
      "source": [
        "#LOGICAL OPERATORS"
      ],
      "metadata": {
        "id": "lpJRIiuqiIvw"
      }
    },
    {
      "cell_type": "code",
      "source": [
        "# and\n",
        "a = 20\n",
        "b = 30\n",
        "print(a > b and a < b)\n",
        "\n",
        "# or\n",
        "print(a > b or a < b)\n",
        "\n",
        "# not\n",
        "print(not a > b)\n",
        "print(not a == b)"
      ],
      "metadata": {
        "id": "vS0NLsSziUhz",
        "colab": {
          "base_uri": "https://localhost:8080/"
        },
        "outputId": "b222f3da-4cfc-49e2-98c0-4c78aa9ef996"
      },
      "execution_count": null,
      "outputs": [
        {
          "output_type": "stream",
          "name": "stdout",
          "text": [
            "False\n",
            "True\n",
            "True\n",
            "True\n"
          ]
        }
      ]
    },
    {
      "cell_type": "markdown",
      "source": [
        "#CONCATENATING TEXT STRING"
      ],
      "metadata": {
        "id": "-zpKnjdhHl94"
      }
    },
    {
      "cell_type": "code",
      "source": [
        "print(\"HELLO\" + \"PROGRAMMERS\")"
      ],
      "metadata": {
        "colab": {
          "base_uri": "https://localhost:8080/"
        },
        "id": "rv5Evcx5Hk_i",
        "outputId": "632c3d18-94ae-4e25-f58d-c69f0b9a863a"
      },
      "execution_count": null,
      "outputs": [
        {
          "output_type": "stream",
          "name": "stdout",
          "text": [
            "HELLOPROGRAMMERS\n"
          ]
        }
      ]
    },
    {
      "cell_type": "code",
      "source": [
        "# method 1\n",
        "f_name = \"QASIM\"\n",
        "l_name = \"Hassan\"\n",
        "full_name = f_name +' '+ l_name\n",
        "print(full_name)\n",
        "\n",
        "# method 2 f str\n",
        "f_name = \"Qasim\"\n",
        "l_name = \"hassan\"\n",
        "full_name = f\"{f_name} {l_name}\"\n",
        "print(full_name)\n",
        "\n",
        "# method 3\n",
        "\"this is a class of {0} {1}\".format(\"sylani\",\"batch_1\")\n"
      ],
      "metadata": {
        "colab": {
          "base_uri": "https://localhost:8080/",
          "height": 70
        },
        "id": "-jM5-2Pof5aw",
        "outputId": "44ec7ee4-f015-4040-fd65-9a7921295d86"
      },
      "execution_count": null,
      "outputs": [
        {
          "output_type": "stream",
          "name": "stdout",
          "text": [
            "QASIM Hassan\n",
            "Qasim hassan\n"
          ]
        },
        {
          "output_type": "execute_result",
          "data": {
            "text/plain": [
              "'this is a class of sylani batch_1'"
            ],
            "application/vnd.google.colaboratory.intrinsic+json": {
              "type": "string"
            }
          },
          "metadata": {},
          "execution_count": 1
        }
      ]
    },
    {
      "cell_type": "markdown",
      "source": [
        "#user input"
      ],
      "metadata": {
        "id": "giFkyOxOWsI3"
      }
    },
    {
      "cell_type": "code",
      "source": [
        "f_name = input(\"Enter your first name\")\n",
        "l_name = input(\"Enter your last name\")\n",
        "m_name = input(\"Enter your middle name\")\n",
        "\n",
        "print(f_name)\n",
        "print(l_name)\n",
        "print(m_name)"
      ],
      "metadata": {
        "colab": {
          "base_uri": "https://localhost:8080/"
        },
        "id": "eliySn82Wv0L",
        "outputId": "23543252-38ef-46c6-d643-7ee068a9df5a"
      },
      "execution_count": null,
      "outputs": [
        {
          "output_type": "stream",
          "name": "stdout",
          "text": [
            "Enter your first nameshaikh\n",
            "Enter your last namesaad\n",
            "Enter your middle namepasha\n",
            "shaikh\n",
            "saad\n",
            "pasha\n"
          ]
        }
      ]
    },
    {
      "cell_type": "markdown",
      "source": [
        "#CONDITIONAL STATEMENT"
      ],
      "metadata": {
        "id": "4HOkb6FkYOOs"
      }
    },
    {
      "cell_type": "code",
      "source": [
        "# if elif else\n",
        "eid = False\n",
        "\n",
        "if eid:\n",
        "  print(\"tomorrow is holiday\")\n",
        "else:\n",
        "  print(\"tomorrow is working day\")"
      ],
      "metadata": {
        "colab": {
          "base_uri": "https://localhost:8080/"
        },
        "id": "btjtxN5vYNiq",
        "outputId": "ecbd0f39-fc7f-491d-c867-cf6f4f688a90"
      },
      "execution_count": null,
      "outputs": [
        {
          "output_type": "stream",
          "name": "stdout",
          "text": [
            "tomorrow is working day\n"
          ]
        }
      ]
    },
    {
      "cell_type": "code",
      "source": [
        "studant_result = True\n",
        "\n",
        "if studant_result:\n",
        "  print(\"PASS\")\n",
        "else:\n",
        "  print(\"FALSE\")"
      ],
      "metadata": {
        "colab": {
          "base_uri": "https://localhost:8080/"
        },
        "id": "6r8vPW7PZf9h",
        "outputId": "078ebf5d-9c37-46f7-f945-27d4afb161ea"
      },
      "execution_count": null,
      "outputs": [
        {
          "output_type": "stream",
          "name": "stdout",
          "text": [
            "PASS\n"
          ]
        }
      ]
    },
    {
      "cell_type": "code",
      "source": [
        "studant_result = input(\"ENTER YOUR STATUS:\")\n",
        "\n",
        "if studant_result:\n",
        "  print(\"ELIGIBLE\")\n",
        "else:\n",
        "  print(\"NOT ELLIGIBLE\")"
      ],
      "metadata": {
        "colab": {
          "base_uri": "https://localhost:8080/"
        },
        "id": "FcvF9NCyaniG",
        "outputId": "c44a3e96-a026-4383-e6d5-8a2ad9bd48d2"
      },
      "execution_count": null,
      "outputs": [
        {
          "output_type": "stream",
          "name": "stdout",
          "text": [
            "ENTER YOUR STATUS:Pass\n",
            "ELIGIBLE\n"
          ]
        }
      ]
    },
    {
      "cell_type": "code",
      "source": [
        "marks = float(input(\"enter your marks:\"))\n",
        "\n",
        "if marks == 90.00:\n",
        "  print(\"your grade is A+\")\n",
        "elif marks == 80.00:\n",
        "  print(\"your grade is A\")\n",
        "elif marks == 70.00:\n",
        "  print(\"your grade is B\")\n",
        "elif marks == 60.00:\n",
        "  print(\"your grade is C\")\n",
        "else:\n",
        "  print(\"your grade is D\")"
      ],
      "metadata": {
        "colab": {
          "base_uri": "https://localhost:8080/"
        },
        "id": "eE9g6pG_bakn",
        "outputId": "977de65b-a1bc-451a-a18b-19462340efdc"
      },
      "execution_count": null,
      "outputs": [
        {
          "output_type": "stream",
          "name": "stdout",
          "text": [
            "enter your marks:60.00\n",
            "your grade is C\n"
          ]
        }
      ]
    },
    {
      "cell_type": "markdown",
      "source": [
        "#NESTED  if else"
      ],
      "metadata": {
        "id": "5eWv8nKIc2sd"
      }
    },
    {
      "cell_type": "markdown",
      "source": [
        "#TASK"
      ],
      "metadata": {
        "id": "XLNXXM0deg8V"
      }
    },
    {
      "cell_type": "code",
      "source": [
        "user_age = int(input(\"ENTER YOUR AGE:\"))\n",
        "\n",
        "if user_age >= 18:\n",
        "  print(\"you are eligible\")\n",
        "  if user_age <= 17:\n",
        "    print(\"you are not eligible\")\n",
        "\n",
        "else:\n",
        "  print(\"not eligible\")"
      ],
      "metadata": {
        "id": "tN63S9HIc1Wa"
      },
      "execution_count": null,
      "outputs": []
    },
    {
      "cell_type": "code",
      "source": [
        "num = int(input(\"ENTER YOR NUMBER\"))\n",
        "\n",
        "if num%2 == 0:\n",
        "  print(\"even\")\n",
        "\n",
        "else:\n",
        "  print(\"odd\")"
      ],
      "metadata": {
        "id": "QFYU6Al4gwlk"
      },
      "execution_count": null,
      "outputs": []
    },
    {
      "cell_type": "code",
      "source": [
        "# A School has  following rules for PASS,FAIL system\n",
        "enter_marks = int(input(\"Enter your marks:\"))\n",
        "\n",
        "if (enter_marks < 30  and enter_marks >= 0):\n",
        "  print(\"your status is fail\")\n",
        "else:\n",
        "  print(\"PASS\")"
      ],
      "metadata": {
        "id": "cIcQMorbihv1",
        "colab": {
          "base_uri": "https://localhost:8080/"
        },
        "outputId": "cf8e2e7e-4609-4162-fb98-d770ed2990c1"
      },
      "execution_count": null,
      "outputs": [
        {
          "output_type": "stream",
          "name": "stdout",
          "text": [
            "Enter your marks:31\n",
            "PASS\n"
          ]
        }
      ]
    },
    {
      "cell_type": "code",
      "source": [
        "independent_var_1 = 90\n",
        "slop = 8\n",
        "intercept = 0.001\n",
        "\n",
        "dependent_var_1 = slop * independent_var_1\n",
        "dependent_var =  dependent_var_1 + intercept  # output = 720.001\n",
        "\n",
        "if (dependent_var != dependent_var_1 + intercept):\n",
        "    print(False)\n",
        "\n",
        "    if (dependent_var == (dependent_var_1 + intercept)):\n",
        "      print(True)\n",
        "\n",
        "else:\n",
        "  print(\"ABSOLUTELY WRONG...\")"
      ],
      "metadata": {
        "colab": {
          "base_uri": "https://localhost:8080/"
        },
        "id": "wINK82xKQfey",
        "outputId": "3253dabd-0d8d-4669-bf75-4b2a458f8bbd"
      },
      "execution_count": null,
      "outputs": [
        {
          "output_type": "stream",
          "name": "stdout",
          "text": [
            "ABSOLUTELY WRONG...\n"
          ]
        }
      ]
    },
    {
      "cell_type": "markdown",
      "source": [
        "#STRING METHODS\n",
        "###strings are immutable"
      ],
      "metadata": {
        "id": "Ar4dhod7q0Ye"
      }
    },
    {
      "cell_type": "code",
      "source": [
        "str = \"Qasim Hassan\"\n",
        "print(str)"
      ],
      "metadata": {
        "colab": {
          "base_uri": "https://localhost:8080/"
        },
        "id": "-nvsRKCYq6sj",
        "outputId": "f1d4cb57-cf4a-4ed6-a296-a0e536505272"
      },
      "execution_count": null,
      "outputs": [
        {
          "output_type": "stream",
          "name": "stdout",
          "text": [
            "Qasim Hassan\n"
          ]
        }
      ]
    },
    {
      "cell_type": "code",
      "source": [
        "#str case conversion methods\n",
        "print(str.upper())\n",
        "print(str.lower())"
      ],
      "metadata": {
        "colab": {
          "base_uri": "https://localhost:8080/"
        },
        "id": "Aml6jFjwgNt8",
        "outputId": "bf87d963-5e3d-4a06-a752-d8ea7b06b1c0"
      },
      "execution_count": null,
      "outputs": [
        {
          "output_type": "stream",
          "name": "stdout",
          "text": [
            "QASIM HASSAN\n",
            "qasim hassan\n"
          ]
        }
      ]
    },
    {
      "cell_type": "code",
      "source": [
        "var = '  hello hy  '\n",
        "var"
      ],
      "metadata": {
        "colab": {
          "base_uri": "https://localhost:8080/",
          "height": 35
        },
        "id": "tyi5bzoCgRJY",
        "outputId": "d3efffb6-55fb-4937-ebc8-8168ef85a72e"
      },
      "execution_count": null,
      "outputs": [
        {
          "output_type": "execute_result",
          "data": {
            "text/plain": [
              "'  hello hy  '"
            ],
            "application/vnd.google.colaboratory.intrinsic+json": {
              "type": "string"
            }
          },
          "metadata": {},
          "execution_count": 1
        }
      ]
    },
    {
      "cell_type": "code",
      "source": [
        "# strip method\n",
        "var.strip() # Removing whitespace (left right OR start end)"
      ],
      "metadata": {
        "colab": {
          "base_uri": "https://localhost:8080/",
          "height": 35
        },
        "id": "Rc_DcdVUzzeq",
        "outputId": "07b68bb5-befa-4cd0-a0fb-1a29e3eed836"
      },
      "execution_count": null,
      "outputs": [
        {
          "output_type": "execute_result",
          "data": {
            "text/plain": [
              "'hello hy'"
            ],
            "application/vnd.google.colaboratory.intrinsic+json": {
              "type": "string"
            }
          },
          "metadata": {},
          "execution_count": 106
        }
      ]
    },
    {
      "cell_type": "code",
      "source": [
        "# string trailing strip method\n",
        "var.rstrip()#(right/end) side whitespace removed"
      ],
      "metadata": {
        "colab": {
          "base_uri": "https://localhost:8080/",
          "height": 35
        },
        "id": "IqJMSbWvzkOS",
        "outputId": "206a6085-fd0e-4f7f-839f-52986498796c"
      },
      "execution_count": null,
      "outputs": [
        {
          "output_type": "execute_result",
          "data": {
            "text/plain": [
              "'  hello hy'"
            ],
            "application/vnd.google.colaboratory.intrinsic+json": {
              "type": "string"
            }
          },
          "metadata": {},
          "execution_count": 4
        }
      ]
    },
    {
      "cell_type": "code",
      "source": [
        "# string  leading strip method\n",
        "var.lstrip() #(left/start) side sy whitespace removed"
      ],
      "metadata": {
        "colab": {
          "base_uri": "https://localhost:8080/",
          "height": 35
        },
        "id": "inn3kGon1G-3",
        "outputId": "2ada0c1a-945d-4f10-fdb4-e0b188bc7a34"
      },
      "execution_count": null,
      "outputs": [
        {
          "output_type": "execute_result",
          "data": {
            "text/plain": [
              "'hello hy  '"
            ],
            "application/vnd.google.colaboratory.intrinsic+json": {
              "type": "string"
            }
          },
          "metadata": {},
          "execution_count": 111
        }
      ]
    },
    {
      "cell_type": "code",
      "source": [
        "# strip with cheracter\n",
        "field = 'ACCA'    #str as a palindrome words choose krna ha strip with character method main\n",
        "Eleminate1 = field.strip('A')\n",
        "Eleminate1"
      ],
      "metadata": {
        "colab": {
          "base_uri": "https://localhost:8080/",
          "height": 35
        },
        "id": "SfLtPcoA30eL",
        "outputId": "e74cb12f-d31a-4e6a-d0eb-efceb34c579f"
      },
      "execution_count": null,
      "outputs": [
        {
          "output_type": "execute_result",
          "data": {
            "text/plain": [
              "'CC'"
            ],
            "application/vnd.google.colaboratory.intrinsic+json": {
              "type": "string"
            }
          },
          "metadata": {},
          "execution_count": 5
        }
      ]
    },
    {
      "cell_type": "code",
      "source": [
        "Eleminate2 = Eleminate1.strip('C')\n",
        "Eleminate2"
      ],
      "metadata": {
        "colab": {
          "base_uri": "https://localhost:8080/",
          "height": 35
        },
        "id": "FX-GxHbC7L1P",
        "outputId": "783d8934-9d16-4656-9622-5cef9e80ca90"
      },
      "execution_count": null,
      "outputs": [
        {
          "output_type": "execute_result",
          "data": {
            "text/plain": [
              "''"
            ],
            "application/vnd.google.colaboratory.intrinsic+json": {
              "type": "string"
            }
          },
          "metadata": {},
          "execution_count": 6
        }
      ]
    },
    {
      "cell_type": "code",
      "source": [
        "Eleminate2.strip('')"
      ],
      "metadata": {
        "colab": {
          "base_uri": "https://localhost:8080/",
          "height": 35
        },
        "id": "T7OBWCRW75oU",
        "outputId": "79681f8c-59b7-4a6d-c579-61aac923c6d4"
      },
      "execution_count": null,
      "outputs": [
        {
          "output_type": "execute_result",
          "data": {
            "text/plain": [
              "''"
            ],
            "application/vnd.google.colaboratory.intrinsic+json": {
              "type": "string"
            }
          },
          "metadata": {},
          "execution_count": 7
        }
      ]
    },
    {
      "cell_type": "code",
      "source": [
        "defence = 'RADAR'\n",
        "defence.strip('R')"
      ],
      "metadata": {
        "colab": {
          "base_uri": "https://localhost:8080/",
          "height": 35
        },
        "id": "IY6ZdgtE5KyS",
        "outputId": "e21417ec-3005-448d-aace-02f09d758f2f"
      },
      "execution_count": null,
      "outputs": [
        {
          "output_type": "execute_result",
          "data": {
            "text/plain": [
              "'ADA'"
            ],
            "application/vnd.google.colaboratory.intrinsic+json": {
              "type": "string"
            }
          },
          "metadata": {},
          "execution_count": 116
        }
      ]
    },
    {
      "cell_type": "code",
      "source": [
        "# strip() with combination of characters\n",
        "s = 'www.example.com'\n",
        "print(s.strip('wcmoepl.'))"
      ],
      "metadata": {
        "colab": {
          "base_uri": "https://localhost:8080/"
        },
        "id": "biqYbEPotEGy",
        "outputId": "7cba4934-5977-486d-d105-573439a95403"
      },
      "execution_count": null,
      "outputs": [
        {
          "output_type": "stream",
          "name": "stdout",
          "text": [
            "xa\n"
          ]
        }
      ]
    },
    {
      "cell_type": "code",
      "source": [
        "# removeprefix()  method\n",
        "str_words = 'python   programmers' #remove_starting_word\n",
        "str_words.removeprefix('python')"
      ],
      "metadata": {
        "colab": {
          "base_uri": "https://localhost:8080/",
          "height": 35
        },
        "id": "FL4LsQUGuJug",
        "outputId": "f1398886-b51f-42b8-e38e-deb8349b65ff"
      },
      "execution_count": null,
      "outputs": [
        {
          "output_type": "execute_result",
          "data": {
            "text/plain": [
              "'   programmers'"
            ],
            "application/vnd.google.colaboratory.intrinsic+json": {
              "type": "string"
            }
          },
          "metadata": {},
          "execution_count": 166
        }
      ]
    },
    {
      "cell_type": "code",
      "source": [
        "# 6. removesuffix() method\n",
        "words_str = 'pyhton  programmers' #remove_ending_word\n",
        "words_str.removesuffix('programmers')"
      ],
      "metadata": {
        "colab": {
          "base_uri": "https://localhost:8080/",
          "height": 35
        },
        "id": "6SDp02BUumRz",
        "outputId": "8ee1815c-d774-48bd-fecd-ba6d8f08a86a"
      },
      "execution_count": null,
      "outputs": [
        {
          "output_type": "execute_result",
          "data": {
            "text/plain": [
              "'pyhton  '"
            ],
            "application/vnd.google.colaboratory.intrinsic+json": {
              "type": "string"
            }
          },
          "metadata": {},
          "execution_count": 168
        }
      ]
    },
    {
      "cell_type": "code",
      "source": [
        "# 7. replace() method\n",
        "TextString = 'TEXT STR TEXT'\n",
        "print(TextString.replace('TEXT','WORD'))\n",
        "print(TextString.replace('STR','str'))\n",
        "print(TextString.replace(' ','_'))\n",
        "print(TextString.replace('','_'))"
      ],
      "metadata": {
        "colab": {
          "base_uri": "https://localhost:8080/"
        },
        "id": "oGh1aoZrD7e_",
        "outputId": "9e1447d4-3439-4103-8064-b35e9fbbf418"
      },
      "execution_count": null,
      "outputs": [
        {
          "output_type": "stream",
          "name": "stdout",
          "text": [
            "WORD STR WORD\n",
            "TEXT str TEXT\n",
            "TEXT_STR_TEXT\n",
            "_T_E_X_T_ _S_T_R_ _T_E_X_T_\n"
          ]
        }
      ]
    },
    {
      "cell_type": "code",
      "source": [
        "# 8. find()\n",
        "print('index =',TextString.find('STR'))\n",
        "print('index =',TextString.find('R'))"
      ],
      "metadata": {
        "colab": {
          "base_uri": "https://localhost:8080/"
        },
        "id": "O-tcje97EQgT",
        "outputId": "a9e1e358-525c-4701-8e97-bc7153f9a70a"
      },
      "execution_count": null,
      "outputs": [
        {
          "output_type": "stream",
          "name": "stdout",
          "text": [
            "index = 5\n",
            "index = 7\n"
          ]
        }
      ]
    },
    {
      "cell_type": "code",
      "source": [
        "# 9. isalnum()  alphanumericstring means A to Z, a to z, 0 to 9\n",
        "\n",
        "TextString1 = 'Welcome'  #alpha numeric str\n",
        "print(TextString1.isalnum())\n",
        "\n",
        "TextString2 = 'WELCOME'  #alpha numeric str\n",
        "print(TextString2.isalnum())\n",
        "\n",
        "num_str = '1001'  #alpha numeric str\n",
        "print(num_str.isalnum())\n",
        "\n",
        "num_str = '3.14'  # not alphanumericstring\n",
        "print(num_str.isalnum())"
      ],
      "metadata": {
        "colab": {
          "base_uri": "https://localhost:8080/"
        },
        "id": "GUur65KZFndv",
        "outputId": "b6038030-081d-4eda-f9fc-dcb6ad349162"
      },
      "execution_count": null,
      "outputs": [
        {
          "output_type": "stream",
          "name": "stdout",
          "text": [
            "True\n",
            "True\n",
            "True\n",
            "False\n"
          ]
        }
      ]
    },
    {
      "cell_type": "code",
      "source": [
        "# 10. isalpha()\n",
        "TextString2 = 'WELCOME' # ALL STRING CHARACTERS ARE CAPITAL\n",
        "print(TextString2.isalpha())\n",
        "\n",
        "TextString3 = 'Welcome'\n",
        "print(TextString3.isalpha())"
      ],
      "metadata": {
        "colab": {
          "base_uri": "https://localhost:8080/"
        },
        "id": "lDms9MgaIM4W",
        "outputId": "94a6cd6d-4584-441c-9a5d-5cd34498419f"
      },
      "execution_count": null,
      "outputs": [
        {
          "output_type": "stream",
          "name": "stdout",
          "text": [
            "True\n",
            "True\n"
          ]
        }
      ]
    },
    {
      "cell_type": "markdown",
      "source": [
        "# 10 Useful String Methods in Python"
      ],
      "metadata": {
        "id": "9xnJXn8nOAnB"
      }
    },
    {
      "cell_type": "code",
      "source": [
        "# 1. center( )\n",
        "# syntax ---> str.center(length , fillchar)\n",
        "text_str = 'Artificial Intelligence'\n",
        "print(text_str.center(30 , '#'))"
      ],
      "metadata": {
        "id": "UwKtLUb8Gys7",
        "colab": {
          "base_uri": "https://localhost:8080/"
        },
        "outputId": "cdcb1354-460e-482f-85c3-2db9c65496ea"
      },
      "execution_count": null,
      "outputs": [
        {
          "output_type": "stream",
          "name": "stdout",
          "text": [
            "###Artificial Intelligence####\n"
          ]
        }
      ]
    },
    {
      "cell_type": "code",
      "source": [
        "# 2. len()\n",
        "my_text_str = 'Artificial Intelligence'\n",
        "print(len(my_text_str))"
      ],
      "metadata": {
        "id": "S6HJwyXsQRZc",
        "colab": {
          "base_uri": "https://localhost:8080/"
        },
        "outputId": "9fc0fc33-43d7-4046-bb35-0cfcb9d9e25e"
      },
      "execution_count": null,
      "outputs": [
        {
          "output_type": "stream",
          "name": "stdout",
          "text": [
            "23\n"
          ]
        }
      ]
    },
    {
      "cell_type": "code",
      "source": [
        "# 3. upper()\n",
        "print(my_text_str.upper())"
      ],
      "metadata": {
        "id": "070SdgXAul9r",
        "colab": {
          "base_uri": "https://localhost:8080/"
        },
        "outputId": "5b0b5bec-3466-461a-c30c-4a6f342affc9"
      },
      "execution_count": null,
      "outputs": [
        {
          "output_type": "stream",
          "name": "stdout",
          "text": [
            "ARTIFICIAL INTELLIGENCE\n"
          ]
        }
      ]
    },
    {
      "cell_type": "code",
      "source": [
        "# 4. lower()\n",
        "my_text_str.lower()"
      ],
      "metadata": {
        "colab": {
          "base_uri": "https://localhost:8080/",
          "height": 35
        },
        "id": "uIBF70U-QmBX",
        "outputId": "14803e82-8a1b-4d58-bf07-5781cd65abe0"
      },
      "execution_count": null,
      "outputs": [
        {
          "output_type": "execute_result",
          "data": {
            "text/plain": [
              "'artificial intelligence'"
            ],
            "application/vnd.google.colaboratory.intrinsic+json": {
              "type": "string"
            }
          },
          "metadata": {},
          "execution_count": 7
        }
      ]
    },
    {
      "cell_type": "code",
      "source": [
        "# 5. lstrip()  leading strip method\n",
        "my_text_str_1 = '!!!!!hello'  #(left/starting) side pr work krta ha ye method\n",
        "print(my_text_str_1.lstrip('!'))"
      ],
      "metadata": {
        "colab": {
          "base_uri": "https://localhost:8080/"
        },
        "id": "fWKEVDHGQvvi",
        "outputId": "781d7266-4dd3-481a-8623-55d6d57b9fed"
      },
      "execution_count": null,
      "outputs": [
        {
          "output_type": "stream",
          "name": "stdout",
          "text": [
            "hello\n"
          ]
        }
      ]
    },
    {
      "cell_type": "code",
      "source": [
        "# 6. rstrip() trailing strip method\n",
        "my_text_str_1.rstrip('lo') #(right/end) side pr work krta ha ye method"
      ],
      "metadata": {
        "colab": {
          "base_uri": "https://localhost:8080/",
          "height": 35
        },
        "id": "K0GzBBWDStmE",
        "outputId": "342e5c11-6317-4a46-edbd-80e8fc2b54ed"
      },
      "execution_count": null,
      "outputs": [
        {
          "output_type": "execute_result",
          "data": {
            "text/plain": [
              "'!!!!!he'"
            ],
            "application/vnd.google.colaboratory.intrinsic+json": {
              "type": "string"
            }
          },
          "metadata": {},
          "execution_count": 16
        }
      ]
    },
    {
      "cell_type": "code",
      "source": [
        "# 7. strip()\n",
        "my_text_str_2 = '  madam  '\n",
        "my_text_str_2.strip(' ') #start or end pr work kre ga"
      ],
      "metadata": {
        "colab": {
          "base_uri": "https://localhost:8080/",
          "height": 35
        },
        "id": "ivKsOlZFTtvN",
        "outputId": "5f2bbeb8-2214-4a64-daef-b6ce1ef335f8"
      },
      "execution_count": null,
      "outputs": [
        {
          "output_type": "execute_result",
          "data": {
            "text/plain": [
              "'madam'"
            ],
            "application/vnd.google.colaboratory.intrinsic+json": {
              "type": "string"
            }
          },
          "metadata": {},
          "execution_count": 25
        }
      ]
    },
    {
      "cell_type": "code",
      "source": [
        "my_text_str_2 = 'Madam'\n",
        "print(my_text_str_2.strip('M'))"
      ],
      "metadata": {
        "colab": {
          "base_uri": "https://localhost:8080/"
        },
        "id": "uFCYc17eVQqF",
        "outputId": "2a47afbb-974a-4b27-b18a-538547eba9e5"
      },
      "execution_count": null,
      "outputs": [
        {
          "output_type": "stream",
          "name": "stdout",
          "text": [
            "adam\n"
          ]
        }
      ]
    },
    {
      "cell_type": "code",
      "source": [
        "print(my_text_str_2.strip('m'))"
      ],
      "metadata": {
        "colab": {
          "base_uri": "https://localhost:8080/"
        },
        "id": "xDeSIu0MVvRb",
        "outputId": "0a6e039e-8caf-40d5-e226-ecc2443566b8"
      },
      "execution_count": null,
      "outputs": [
        {
          "output_type": "stream",
          "name": "stdout",
          "text": [
            "Mada\n"
          ]
        }
      ]
    },
    {
      "cell_type": "code",
      "source": [
        "my_text_str_2 = 'MadaM'\n",
        "print(my_text_str_2.strip('M'))"
      ],
      "metadata": {
        "colab": {
          "base_uri": "https://localhost:8080/"
        },
        "id": "cWFFm7DSVhZy",
        "outputId": "3c86b2e8-d07c-41c5-cdee-efcba1d502ca"
      },
      "execution_count": null,
      "outputs": [
        {
          "output_type": "stream",
          "name": "stdout",
          "text": [
            "ada\n"
          ]
        }
      ]
    },
    {
      "cell_type": "code",
      "source": [
        "# 6. replace()\n",
        "name = '!!!john!!!'\n",
        "print(name.replace('john','sam altman'))\n",
        "\n",
        "print(name) #ab name main koe change nahi q k old str main koe change\n",
        "            # nahi q k actual ki copy sam altman thi but actual str main koe change nahi"
      ],
      "metadata": {
        "colab": {
          "base_uri": "https://localhost:8080/"
        },
        "id": "lTpQdrQTWoUI",
        "outputId": "edadf88a-70f4-4daf-f98c-be889a3e9395"
      },
      "execution_count": null,
      "outputs": [
        {
          "output_type": "stream",
          "name": "stdout",
          "text": [
            "!!!sam altman!!!\n",
            "!!!john!!!\n"
          ]
        }
      ]
    },
    {
      "cell_type": "code",
      "source": [
        "# 7. capitalize()\n",
        "language = 'r programming'\n",
        "print(language.capitalize())"
      ],
      "metadata": {
        "colab": {
          "base_uri": "https://localhost:8080/"
        },
        "id": "hfNFVoHyoFR-",
        "outputId": "a2208778-3e37-4189-a575-7cd71c23f789"
      },
      "execution_count": null,
      "outputs": [
        {
          "output_type": "stream",
          "name": "stdout",
          "text": [
            "R programming\n"
          ]
        }
      ]
    },
    {
      "cell_type": "code",
      "source": [
        "# 8. center()\n",
        "Reliability = 'iphone'\n",
        "print(Reliability.center(10,'#'))\n",
        "print(len(Reliability.center(10 , '#')))\n",
        "\n",
        "# actual str main change nahi\n",
        "print(Reliability)\n",
        "print(len(Reliability))"
      ],
      "metadata": {
        "colab": {
          "base_uri": "https://localhost:8080/"
        },
        "id": "qWBZmgSHo8yx",
        "outputId": "29b8e241-c8d8-4107-8bdb-6c17642e8c12"
      },
      "execution_count": null,
      "outputs": [
        {
          "output_type": "stream",
          "name": "stdout",
          "text": [
            "##iphone##\n",
            "10\n",
            "iphone\n",
            "6\n"
          ]
        }
      ]
    },
    {
      "cell_type": "code",
      "source": [
        "# 9. count()\n",
        "Reliability.count('h')"
      ],
      "metadata": {
        "id": "E1niarqnq9ax",
        "colab": {
          "base_uri": "https://localhost:8080/"
        },
        "outputId": "82eff5d3-5b0c-46b4-8a96-cd657c2c46f0"
      },
      "execution_count": null,
      "outputs": [
        {
          "output_type": "execute_result",
          "data": {
            "text/plain": [
              "1"
            ]
          },
          "metadata": {},
          "execution_count": 64
        }
      ]
    },
    {
      "cell_type": "code",
      "source": [
        "# 10. endwith()\n",
        "str1 = 'this is string @@@'\n",
        "print(str1.endswith('@'))\n",
        "\n",
        "print(str1.endswith('ng',3,14))"
      ],
      "metadata": {
        "colab": {
          "base_uri": "https://localhost:8080/"
        },
        "id": "aKArYBRNzcJB",
        "outputId": "c85060f6-048c-45a0-c9fd-8c645a8d37b6"
      },
      "execution_count": null,
      "outputs": [
        {
          "output_type": "stream",
          "name": "stdout",
          "text": [
            "True\n",
            "True\n"
          ]
        }
      ]
    },
    {
      "cell_type": "markdown",
      "source": [
        "##CONCATENATING TEXT STRING\n",
        "####There are three methods"
      ],
      "metadata": {
        "id": "1y44fEZJBxP2"
      }
    },
    {
      "cell_type": "code",
      "source": [
        "# mrthod_1: using + operator\n",
        "f_name = 'ALI'\n",
        "l_name = 'MUHAMMAD'\n",
        "print(f_name + l_name) #without space\n",
        "# OR\n",
        "print(f_name +' '+ l_name) #with space\n",
        "\n",
        "# method_2: f\"str\"\n",
        "print(f\"{f_name} {l_name}\")  #with space\n",
        "print(f\"{f_name}{l_name}\") #without space\n",
        "\n",
        "\n",
        "# method_3:\n",
        "# \"{index pass} {index pass}\".format(\"\", \"\")\n",
        "print(\"this is method {0} {1}\".format(\"number\", \"three\")) #with space\n",
        "print(\"this is method {}{}\".format(\"number\", \"three\")) #without space"
      ],
      "metadata": {
        "id": "Ns8BFF-fBmY0"
      },
      "execution_count": null,
      "outputs": []
    },
    {
      "cell_type": "code",
      "source": [
        "var1_for_str = \"pyhton_is_a_\"\n",
        "var2_for_str = \"heart_of_\"\n",
        "var3_for_str = \"Artificial_Intelligence----\"\n",
        "\n",
        "# method 1: using + opertor\n",
        "print(\"pyhton_is_a_\" + \"heart_of_\" + \"Artificial_Intelligence----\")\n",
        "print(\"pyhton_is_a\" +' '+ \"heart_of\" +' '+ \"Artificial_Intelligence----\")\n",
        "\n",
        "# method 2: f\"{} {} ....{n}\"\n",
        "print(f'{var1_for_str}{var2_for_str}{var3_for_str}')\n",
        "print(f'{var1_for_str} {var2_for_str} {var3_for_str}')\n",
        "\n",
        "# method 3: \"{index_1} {index_2}....{index_n}\".format(\"str_1\", \"str_2\",.....,\"str_n\")\n",
        "print(\"{0}{1}{2}\".format(\"pyhton_is_a_\", \"heart_of_\", \"Artificial_Intelligence----\"))\n",
        "print(\"{2} {0} {1}\".format(\"pyhton_is_a_\", \"heart_of_\", \"Artificial_Intelligence----\"))"
      ],
      "metadata": {
        "id": "a2BBMUNJFq1A"
      },
      "execution_count": null,
      "outputs": []
    },
    {
      "cell_type": "markdown",
      "source": [
        "##USER INPUT..."
      ],
      "metadata": {
        "id": "3tiliR-l4o1b"
      }
    },
    {
      "cell_type": "code",
      "source": [
        "f_name = input(\"ENTER_YOUR_FIRST_NAME..\")\n",
        "m_name = input(\"ENTER_YOUR_MIDDLE_NAME..\")\n",
        "l_name = input(\"ENTER_YOUR_LAST_NAME..\")\n",
        "\n",
        "print(f\"MY_FIRST_NAME_IS = {f_name}\")\n",
        "print(f\"MY_MIDDLE_NAME_IS = {m_name}\")\n",
        "print(f\"MY_LAST_NAME_IS = {l_name}\")"
      ],
      "metadata": {
        "id": "YzDkSXkW4oKC"
      },
      "execution_count": null,
      "outputs": []
    },
    {
      "cell_type": "markdown",
      "source": [
        "## CONDITIONAL STATEMENT:\n",
        "\n",
        "####if ,elif, else\n",
        "\n"
      ],
      "metadata": {
        "id": "J6Zs2jik6miq"
      }
    },
    {
      "cell_type": "code",
      "source": [
        "f_name = input(\"ENTER_YOUR_FIRST_NAME...\")\n",
        "\n",
        "if (f_name == \"Hafiz\"):\n",
        "  print(\"True\")"
      ],
      "metadata": {
        "id": "XUhF_4IF6jf7"
      },
      "execution_count": null,
      "outputs": []
    },
    {
      "cell_type": "code",
      "source": [
        "f_name = input(\"Enter_your_first_name...\")\n",
        "l_name = input(\"Enter_your_last_name...\")\n",
        "\n",
        "if (f_name == \"shaikh\" and l_name == \"muhammad\"):\n",
        "  print(\"True / Yes\")\n",
        "else:\n",
        "  print(\"NO...\")"
      ],
      "metadata": {
        "id": "u2pFyUWf8GBv"
      },
      "execution_count": null,
      "outputs": []
    },
    {
      "cell_type": "code",
      "source": [
        "# using if ,else, or\n",
        "f_name = input(\"Enter_your_first_name...\")\n",
        "l_name = input(\"Enter_your_last_name...\")\n",
        "\n",
        "if (f_name == \"muhammad\" or l_name == \"ali\"):\n",
        "  print(\"1 or 0 = 1 OR 1 or 1\")\n",
        "else:\n",
        "  print(\"0 or 0 = 0\")"
      ],
      "metadata": {
        "id": "_7kN1RW2-VnF"
      },
      "execution_count": null,
      "outputs": []
    },
    {
      "cell_type": "code",
      "source": [
        "# using if elif else  and or\n",
        "f_name = input(\"Enter_your_first_name...\")\n",
        "l_name = input(\"Enter_your_last_name...\")\n",
        "\n",
        "if (f_name != \"shaikh\" or l_name == \"pasha\"):\n",
        "  print(\"True + True = True ..OR.. True + False = True\")\n",
        "elif (f_name == \"shaikh\" and l_name == \"ali\"):\n",
        "  print(\"True * True = True ..OR.. True * False = False\")\n",
        "else:\n",
        "  print(\"soRRy---\")"
      ],
      "metadata": {
        "id": "Rrtr--Y-A2mI"
      },
      "execution_count": null,
      "outputs": []
    },
    {
      "cell_type": "code",
      "source": [
        "#using (nested if, elif, else, and, or)\n",
        "# build weather condition .....prediction tomorrow is rainy day  kitny percent chances ha?\n",
        "weather = input(\"TOMORROW_WEATHER_CONDITION...\")\n",
        "\n",
        "if weather == \"rainy\":\n",
        "  print('Happy_Rainy_Day')\n",
        "\n",
        "  probability_rain_expected = int(input(\"Enter_kitny_percent_probability_ha_barish_k...\"))\n",
        "\n",
        "\n",
        "  if (probability_rain_expected >= 74 and probability_rain_expected <= 99):\n",
        "    print(\"please_finished_your_outdoor_work...\")\n",
        "    print(\"Stay_home stay_save\")\n",
        "\n",
        "  elif (probability_rain_expected<= 0):\n",
        "    print(\"See_Clouds\")\n",
        "\n",
        "elif (weather == \"sunny\" or weather == \"normal\"):\n",
        "  print(\"apni_routine_k_hisaab_sy_life_guzarein.\")\n",
        "\n",
        "else:\n",
        "  print(\"High_Tempearture...\")"
      ],
      "metadata": {
        "id": "aFJwKYFGfSmx"
      },
      "execution_count": null,
      "outputs": []
    },
    {
      "cell_type": "markdown",
      "source": [
        "##PEMDAS RULE"
      ],
      "metadata": {
        "id": "1r___pH8mv6V"
      }
    },
    {
      "cell_type": "code",
      "source": [
        "print(((2+4)**2)+12-(10/(2*(2*3))))\n",
        "print(2*4) #6\n",
        "print(2+3) #6\n",
        "print(6**2) #36\n",
        "print(2*6) #12\n",
        "print(-10/12) #-0.833\n",
        "print(36 + 12) #48\n",
        "print(48 - 0.833)"
      ],
      "metadata": {
        "id": "e6xiSiQ8mfZ7"
      },
      "execution_count": null,
      "outputs": []
    },
    {
      "cell_type": "code",
      "source": [
        "name = input(\"Enter your name...\")\n",
        "print(\"my name is = \",name)"
      ],
      "metadata": {
        "id": "kqHTdqYR4y_q"
      },
      "execution_count": null,
      "outputs": []
    },
    {
      "cell_type": "code",
      "source": [
        "f_name = input(\"enter your first name.. \")\n",
        "print(\"{0}\".format(f_name))"
      ],
      "metadata": {
        "id": "U1QUjkcq2dLv"
      },
      "execution_count": null,
      "outputs": []
    },
    {
      "cell_type": "code",
      "source": [
        "f_name = input(\"Enter your f_name\")\n",
        "m_name = input(\"Enter your m_name\")\n",
        "l_name = input(\"Enter your l_name\")\n",
        "\n",
        "print('{0}{1}{2}'.format(f_name, m_name, l_name))\n",
        "print('{2}{1}{0}'.format(f_name, m_name, l_name))"
      ],
      "metadata": {
        "id": "vwkUpzDJkRii"
      },
      "execution_count": null,
      "outputs": []
    },
    {
      "cell_type": "code",
      "source": [
        "# control structure\n",
        "# conditional statement\n",
        "m,x,c = 6,10,0.1\n",
        "y = m*x + c\n",
        "dependent = 60.1\n",
        "\n",
        "if dependent >= y:\n",
        "  print(True)\n",
        "elif dependent != y:\n",
        "  print(False)"
      ],
      "metadata": {
        "id": "0LvgzGRuotOK"
      },
      "execution_count": null,
      "outputs": []
    },
    {
      "cell_type": "code",
      "source": [
        "m1, m2, m3, x1, x2, x3, b = 10, 9, 8, 3, 7, 12, 0.1\n",
        "y = m1*x1 * m2*x2 * m3*x3 + b\n",
        "dependent = y\n",
        "\n",
        "if (dependent > 100 or dependent < 1000):\n",
        "  print(True)\n",
        "\n",
        "elif (dependent != 100 and dependent == 100):\n",
        "  print(False)\n",
        "\n",
        "else:\n",
        "  print(\" ------_____------ \")"
      ],
      "metadata": {
        "id": "-yDyxqnVlG_x"
      },
      "execution_count": null,
      "outputs": []
    },
    {
      "cell_type": "markdown",
      "source": [
        "#LIST"
      ],
      "metadata": {
        "id": "8x3GROCG51__"
      }
    },
    {
      "cell_type": "code",
      "source": [
        "my_list = [1 , 2 , 3 , 5 , 8]\n",
        "print(my_list)"
      ],
      "metadata": {
        "id": "NLTSN0IMq37I"
      },
      "execution_count": null,
      "outputs": []
    },
    {
      "cell_type": "code",
      "source": [
        "MyList = ['a','c','d','w']\n",
        "print(MyList)"
      ],
      "metadata": {
        "id": "NN0MJNWu6QAk"
      },
      "execution_count": null,
      "outputs": []
    },
    {
      "cell_type": "code",
      "source": [
        "multiple_data_type_store = [\"PYHTON\" , 23, 3.14 , True , {'a':0} , (1,3) , {'a','b','c'}]\n",
        "print(multiple_data_type_store)\n",
        "print(type(multiple_data_type_store))"
      ],
      "metadata": {
        "id": "4bTAGO4s6loS"
      },
      "execution_count": null,
      "outputs": []
    },
    {
      "cell_type": "code",
      "source": [
        "list = ['apple','banana','orange','kiwi']\n",
        "list.append('lemon') #list k last main lemon add\n",
        "print(list)"
      ],
      "metadata": {
        "id": "XPX0YwY97vUA"
      },
      "execution_count": null,
      "outputs": []
    },
    {
      "cell_type": "markdown",
      "source": [
        "# Syntax of Python Deepcopy\n",
        "\n",
        "## copy.deepcopy()"
      ],
      "metadata": {
        "id": "WFkp4BluEAzR"
      }
    },
    {
      "cell_type": "code",
      "source": [
        "import copy\n",
        "a = [[1,2,3] , [81,4,9]] # this is nested list\n",
        "\n",
        "b = copy.deepcopy(a)# Creating a deep copy of the nested list 'a'\n",
        "\n",
        "b[0][0] = 9\n",
        "\n",
        "print(b)"
      ],
      "metadata": {
        "id": "2Z7Kxo128JHl"
      },
      "execution_count": null,
      "outputs": []
    },
    {
      "cell_type": "code",
      "source": [
        "# Syntax of Python Deepcopy\n",
        "# copy.deepcopy()\n",
        "\n",
        "import copy\n",
        "\n",
        "x = [[3,6,9] , [9,36,80]]\n",
        "y = copy.deepcopy(x) #create a deep copy of the list 'x'\n",
        "\n",
        "y[1][2] = 81\n",
        "\n",
        "print(y)\n",
        "print(type(y))"
      ],
      "metadata": {
        "id": "gK4UvTOF_p4s"
      },
      "execution_count": null,
      "outputs": []
    },
    {
      "cell_type": "code",
      "source": [
        "import copy\n",
        "\n",
        "str_var = [['appl','banan','kiw','cherr'] , ['e','n','i','y']]\n",
        "\n",
        "create_deep_copy = copy.deepcopy(str_var)\n",
        "create_deep_copy[1][1] = 'a'\n",
        "\n",
        "print(create_deep_copy,id(create_deep_copy))\n",
        "print(str_var,id(str_var))"
      ],
      "metadata": {
        "id": "XzOOg98aBYSi",
        "colab": {
          "base_uri": "https://localhost:8080/"
        },
        "outputId": "d9a88e6b-74de-4cb9-a564-270a36c619be"
      },
      "execution_count": 4,
      "outputs": [
        {
          "output_type": "stream",
          "name": "stdout",
          "text": [
            "[['appl', 'banan', 'kiw', 'cherr'], ['e', 'a', 'i', 'y']] 138224768988608\n",
            "[['appl', 'banan', 'kiw', 'cherr'], ['e', 'n', 'i', 'y']] 138224788520384\n"
          ]
        }
      ]
    },
    {
      "cell_type": "code",
      "source": [
        "str_var.insert(0 , 'fruits') #var.insert(index, 'item')\n",
        "print(str_var)"
      ],
      "metadata": {
        "id": "_GZZrUDJunR3",
        "colab": {
          "base_uri": "https://localhost:8080/"
        },
        "outputId": "45e37da3-8b74-4a7e-c317-430074e3beac"
      },
      "execution_count": 7,
      "outputs": [
        {
          "output_type": "stream",
          "name": "stdout",
          "text": [
            "['fruits', 'B', ['appl', 'banan', 'kiw', 'cherr'], ['e', 'n', 'i', 'y']]\n"
          ]
        }
      ]
    }
  ]
}