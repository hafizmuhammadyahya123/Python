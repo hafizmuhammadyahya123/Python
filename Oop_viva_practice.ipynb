{
  "nbformat": 4,
  "nbformat_minor": 0,
  "metadata": {
    "colab": {
      "provenance": [],
      "authorship_tag": "ABX9TyMN7B3AIQ0WxX3Sk2fCuOjU",
      "include_colab_link": true
    },
    "kernelspec": {
      "name": "python3",
      "display_name": "Python 3"
    },
    "language_info": {
      "name": "python"
    }
  },
  "cells": [
    {
      "cell_type": "markdown",
      "metadata": {
        "id": "view-in-github",
        "colab_type": "text"
      },
      "source": [
        "<a href=\"https://colab.research.google.com/github/hafizmuhammadyahya123/Python/blob/main/Oop_viva_practice.ipynb\" target=\"_parent\"><img src=\"https://colab.research.google.com/assets/colab-badge.svg\" alt=\"Open In Colab\"/></a>"
      ]
    },
    {
      "cell_type": "code",
      "execution_count": null,
      "metadata": {
        "colab": {
          "base_uri": "https://localhost:8080/"
        },
        "id": "keOJvOxiAjXR",
        "outputId": "7610650f-8d1d-4521-e4d1-d19c6c57a6dd"
      },
      "outputs": [
        {
          "output_type": "stream",
          "name": "stdout",
          "text": [
            "From_Ai_Developers_To_Ai_Dev: 15\n",
            "Twenty 15 Two 2 Five 5\n"
          ]
        }
      ],
      "source": [
        "# blueprint\n",
        "class Company: #pascal case\n",
        "\n",
        "    # constructor / megic method / dunder method\n",
        "    def __init__(self,AiDev,DataScientist,DataAnalyst):\n",
        "\n",
        "      # block of code k liyay indentation ka use hota ha\n",
        "      self.AiDev = AiDev\n",
        "      self.DataScientist = DataScientist\n",
        "      self.DataAnalyst = DataAnalyst\n",
        "\n",
        "    def dis_Method(self):\n",
        "      return f\"Twenty: {self.AiDev}/n Two: {self.DataScientist} Five: {self.DataAnalyst}\"\n",
        "\n",
        "    def replace(self,AiDevelopers):\n",
        "      return f\"From_Ai_Developers_To_Ai_Dev: {self.AiDev}\"\n",
        "\n",
        "      self.AiDev = AiDevelopers\n",
        "\n",
        "# type hunting\n",
        "tech:Company = Company(20,2,5)\n",
        "\n",
        "print(tech.replace(12))\n",
        "print(tech.dis_Method())"
      ]
    },
    {
      "cell_type": "code",
      "source": [
        "# blue print\n",
        "class MyCar: #Pascal case\n",
        "    def start(self):\n",
        "      print(\"MY_CAR_IS_STARTED...\")\n",
        "\n",
        "    def stop(self):\n",
        "      print(\"My_car_is_stopped.\")\n",
        "\n",
        "# type hunting\n",
        "c1:MyCar = MyCar()\n",
        "\n",
        "c1.start()\n",
        "c1.stop()"
      ],
      "metadata": {
        "colab": {
          "base_uri": "https://localhost:8080/"
        },
        "id": "bLNWOAlmaSTx",
        "outputId": "6c2fba99-502f-4ed2-a8e9-be49caaea996"
      },
      "execution_count": null,
      "outputs": [
        {
          "output_type": "stream",
          "name": "stdout",
          "text": [
            "MY_CAR_IS_STARTED...\n",
            "My_car_is_stopped.\n"
          ]
        }
      ]
    }
  ]
}