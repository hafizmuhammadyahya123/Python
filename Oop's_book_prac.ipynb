{
  "nbformat": 4,
  "nbformat_minor": 0,
  "metadata": {
    "colab": {
      "provenance": [],
      "authorship_tag": "ABX9TyMOEy5LdT1vgZp+HnGuYzfh",
      "include_colab_link": true
    },
    "kernelspec": {
      "name": "python3",
      "display_name": "Python 3"
    },
    "language_info": {
      "name": "python"
    }
  },
  "cells": [
    {
      "cell_type": "markdown",
      "metadata": {
        "id": "view-in-github",
        "colab_type": "text"
      },
      "source": [
        "<a href=\"https://colab.research.google.com/github/hafizmuhammadyahya123/Python/blob/main/Oop's_book_prac.ipynb\" target=\"_parent\"><img src=\"https://colab.research.google.com/assets/colab-badge.svg\" alt=\"Open In Colab\"/></a>"
      ]
    },
    {
      "cell_type": "code",
      "execution_count": null,
      "metadata": {
        "colab": {
          "base_uri": "https://localhost:8080/"
        },
        "id": "HTXoSZHlvTEJ",
        "outputId": "85e07ac0-5f71-4f5a-de11-6366dcef2ba4"
      },
      "outputs": [
        {
          "output_type": "stream",
          "name": "stdout",
          "text": [
            "<class '__main__.Myclass'>\n"
          ]
        }
      ],
      "source": [
        "# create class / blueprint\n",
        "class Myclass:\n",
        "\n",
        "  x = 5\n",
        "\n",
        "print(Myclass)"
      ]
    },
    {
      "cell_type": "code",
      "source": [
        "# create class & obj\n",
        "class Myclass:\n",
        "\n",
        "  x = 5\n",
        "\n",
        "obj = Myclass()\n",
        "obj.x"
      ],
      "metadata": {
        "colab": {
          "base_uri": "https://localhost:8080/"
        },
        "id": "Nn4jOa1rwuIJ",
        "outputId": "fe4be24a-6f45-470c-9ef8-10c1d6f3f08b"
      },
      "execution_count": null,
      "outputs": [
        {
          "output_type": "execute_result",
          "data": {
            "text/plain": [
              "5"
            ]
          },
          "metadata": {},
          "execution_count": 4
        }
      ]
    },
    {
      "cell_type": "code",
      "source": [
        "# constructor\n",
        "# __init__() fn\n",
        "class Myclass:\n",
        "\n",
        "  def __init__(self,ML,LIB):\n",
        "\n",
        "    self.ML = ML\n",
        "    self.LIB = LIB\n",
        "\n",
        "obj = Myclass('supervise,unsupervise','SKLEARN')\n",
        "print(obj.ML)\n",
        "print(obj.LIB)\n"
      ],
      "metadata": {
        "colab": {
          "base_uri": "https://localhost:8080/"
        },
        "id": "ZVpFiR-ByLF6",
        "outputId": "96923d96-a4f3-4383-f357-dc5ccd4d6373"
      },
      "execution_count": null,
      "outputs": [
        {
          "output_type": "stream",
          "name": "stdout",
          "text": [
            "supervise,unsupervise\n",
            "SKLEARN\n"
          ]
        }
      ]
    },
    {
      "cell_type": "code",
      "source": [
        "class Myclass:\n",
        "\n",
        "  def __init__(self,py):\n",
        "\n",
        "    self.py = py\n",
        "\n",
        "  # Method\n",
        "  def mymethod(self):\n",
        "    print(\" HELLO PYTHON \" + self.py)\n",
        "\n",
        "obj = Myclass(\"DEVELOPERS...\")\n",
        "obj.mymethod()"
      ],
      "metadata": {
        "colab": {
          "base_uri": "https://localhost:8080/"
        },
        "id": "xorXVI4u2S6B",
        "outputId": "df36a4d4-6e15-4e74-b9f5-a5df8b891eb3"
      },
      "execution_count": null,
      "outputs": [
        {
          "output_type": "stream",
          "name": "stdout",
          "text": [
            " HELLO PYTHON DEVELOPERS...\n"
          ]
        }
      ]
    },
    {
      "cell_type": "code",
      "source": [
        "class Myclass:\n",
        "\n",
        "  def __init__(self,py,students):\n",
        "\n",
        "    self.py = py\n",
        "    self.students = students\n",
        "\n",
        "  # Method\n",
        "  def mymethod(self):\n",
        "    print(\" HELLO PYTHON \" + self.py)\n",
        "\n",
        "obj = Myclass(\"DEVELOPERS...\",22)\n",
        "obj.mymethod()"
      ],
      "metadata": {
        "colab": {
          "base_uri": "https://localhost:8080/"
        },
        "id": "hz5GQciM4G3N",
        "outputId": "70d7c425-b5db-4c59-d371-f492be514798"
      },
      "execution_count": null,
      "outputs": [
        {
          "output_type": "stream",
          "name": "stdout",
          "text": [
            " HELLO PYTHON DEVELOPERS...\n"
          ]
        }
      ]
    },
    {
      "cell_type": "code",
      "source": [
        "class Myclass:\n",
        "\n",
        "  def __init__(self,py,students):\n",
        "\n",
        "    self.py = py\n",
        "    self.students = students\n",
        "\n",
        "  # Method\n",
        "  def mymethod(self):\n",
        "    print(\" HELLO PYTHON \" + self.py)\n",
        "    print(f\" CLASS STRENGTH {self.students}\")\n",
        "\n",
        "obj = Myclass(\"DEVELOPERS...\",22)\n",
        "obj.mymethod()"
      ],
      "metadata": {
        "colab": {
          "base_uri": "https://localhost:8080/"
        },
        "id": "AzTrPbI46kQe",
        "outputId": "8ceb1cb8-a360-4779-eb27-9ba59e4608e6"
      },
      "execution_count": null,
      "outputs": [
        {
          "output_type": "stream",
          "name": "stdout",
          "text": [
            " HELLO PYTHON DEVELOPERS...\n",
            " CLASS STRENGTH 22\n"
          ]
        }
      ]
    },
    {
      "cell_type": "code",
      "source": [
        "# MODIFYING  OBJECT PROPERTIES\n",
        "class Car:\n",
        "\n",
        "  # constructor\n",
        "  def __init__(self,color,model):\n",
        "\n",
        "    #self is unique variable\n",
        "    self.color = color\n",
        "    self.model = model\n",
        "\n",
        "  # method\n",
        "  def diplay(self):\n",
        "    print(\"Car_is:\" + self.color)\n",
        "    print(f\"Car_model: {self.model}\")\n",
        "\n",
        "# object\n",
        "c_obj = Car(\"is_blue\",2024)\n",
        "\n",
        "# modify\n",
        "c_obj.model = 2022\n",
        "c_obj.diplay()"
      ],
      "metadata": {
        "colab": {
          "base_uri": "https://localhost:8080/"
        },
        "id": "0tajmWmSbJFK",
        "outputId": "3b0b27ba-f480-4a97-f15e-55eeaecbf5af"
      },
      "execution_count": null,
      "outputs": [
        {
          "output_type": "stream",
          "name": "stdout",
          "text": [
            "Car_is:is_blue\n",
            "Car_model: 2022\n"
          ]
        }
      ]
    },
    {
      "cell_type": "code",
      "source": [
        "# deleting object properties\n",
        "\n",
        "class Mycompany:\n",
        "\n",
        "  def __init__(self,employ,salary):\n",
        "\n",
        "    self.employ = employ\n",
        "    self.salary = salary\n",
        "\n",
        "  def environment(self):\n",
        "    print('EMPLOYES:' + self.employ)\n",
        "    print(f'Avg/SALARY:{self.salary}')\n",
        "\n",
        "tech = Mycompany('22',300000)\n",
        "del tech.employ\n",
        "\n",
        "print(tech.environment)"
      ],
      "metadata": {
        "colab": {
          "base_uri": "https://localhost:8080/"
        },
        "id": "FoVdaPEmut8V",
        "outputId": "26910fa8-650c-4e61-b0f1-acbe40b5446d"
      },
      "execution_count": null,
      "outputs": [
        {
          "output_type": "stream",
          "name": "stdout",
          "text": [
            "<bound method Mycompany.environment of <__main__.Mycompany object at 0x7efa29f0fdd0>>\n"
          ]
        }
      ]
    },
    {
      "cell_type": "code",
      "source": [
        "# deleting object\n",
        "\n",
        "class Mycompany:\n",
        "\n",
        "  def __init__(self,id,salary):\n",
        "\n",
        "    self.id = id\n",
        "    self.salary = salary\n",
        "\n",
        "  def tech_company(self):\n",
        "\n",
        "    print(f'employe {self.id}')\n",
        "    print('employe' + self.salary)\n",
        "\n",
        "\n",
        "technology = Mycompany(30,3900000)\n",
        "del technology\n",
        "\n",
        "# print(technology)"
      ],
      "metadata": {
        "id": "P4rD1K4WvZ04"
      },
      "execution_count": null,
      "outputs": []
    },
    {
      "cell_type": "code",
      "source": [
        "class Company:\n",
        "\n",
        "  def __init__(self,age,employ,salary):\n",
        "\n",
        "    self.age = age\n",
        "    self.employ = employ\n",
        "    self.salary = salary\n",
        "\n",
        "  def display(self):\n",
        "    print(f\" max_employe_age {self.age}\\n Limited_employe {self.employ}\\n employe_Avg_salary {self.salary} \")\n",
        "\n",
        "obj = Company(40,20,200000)\n",
        "obj.display()"
      ],
      "metadata": {
        "colab": {
          "base_uri": "https://localhost:8080/"
        },
        "id": "gof19dn6jfRQ",
        "outputId": "217af2f5-a26f-4eeb-d8bd-61865891a817"
      },
      "execution_count": null,
      "outputs": [
        {
          "output_type": "stream",
          "name": "stdout",
          "text": [
            " max_employe_age 40\n",
            " Limited_employe 20\n",
            " employe_Avg_salary 200000 \n"
          ]
        }
      ]
    }
  ]
}